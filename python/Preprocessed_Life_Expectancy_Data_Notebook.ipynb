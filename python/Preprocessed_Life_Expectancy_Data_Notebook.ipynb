
# Preprocessing of Life Expectancy Data

This notebook documents the steps taken to preprocess the 'Life Expectancy Data' for use in a D3.js project.

## Importing Required Libraries

```python
import pandas as pd
```

## Loading the Data

Load the data from the CSV file.

```python
file_path = 'Life Expectancy Data.csv'  # Path to the original dataset
data = pd.read_csv(file_path)
```

## Examining the Dataset

Display the first few rows of the dataset to understand its structure.

```python
data.head()
```

## Preprocessing Steps

### Filtering Data

Select a subset of columns that are most relevant for visualization.

```python
selected_columns = [
    'Country', 'Year', 'Status', 'Life expectancy ', 'Adult Mortality', 
    'infant deaths', 'Alcohol', 'percentage expenditure', 'Hepatitis B', 
    'Measles ', ' BMI ', 'under-five deaths ', 'Polio', 'Total expenditure', 
    'Diphtheria ', ' HIV/AIDS', 'GDP', 'Population', 'Schooling'
]

# Filtering the data to include only selected columns
filtered_data = data[selected_columns]
```

### Handling Missing Values

Address missing data by either filling them (if appropriate) or removing rows with missing values.

```python
# Handling missing values by dropping rows with any missing values
cleaned_data = filtered_data.dropna()
```

## Saving the Cleaned Data

Save the cleaned data to a new CSV file.

```python
cleaned_file_path = 'Cleaned_Life_Expectancy_Data.csv'
cleaned_data.to_csv(cleaned_file_path, index=False)
```

